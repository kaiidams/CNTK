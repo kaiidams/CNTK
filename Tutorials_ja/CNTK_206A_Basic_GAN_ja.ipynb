{
 "cells": [
  {
   "cell_type": "code",
   "execution_count": 1,
   "metadata": {
    "collapsed": true
   },
   "outputs": [],
   "source": [
    "from IPython.display import Image"
   ]
  },
  {
   "cell_type": "markdown",
   "metadata": {
    "original_source": [
     "# CNTK 206: Part A - Basic GAN with MNIST data\n",
     "\n",
     "**Prerequisites**: We assume that you have successfully downloaded the MNIST data by completing the tutorial titled CNTK_103A_MNIST_DataLoader.ipynb.\n",
     "\n",
     "## Introduction\n",
     "\n",
     "[Generative models](https://en.wikipedia.org/wiki/Generative_model) have gained a [lot of attention](https://openai.com/blog/generative-models/) in deep learning community which has traditionally leveraged [discriminative models](https://en.wikipedia.org/wiki/Discriminative_model) for (semi-supervised) and unsupervised learning. In generative modeling, the idea is to collect a huge amount of data in a domain of interest (e.g., pictures, audio, words) and come up with a trained model that generates such real world data sets. This is an active area of research needing mechanisms to scale up training and having large datasets. As stated in the [OpenAI blog](https://openai.com/blog/generative-models/), such approaches may be used to perform computer aided art generation, or morph images to some word descriptions such as \"make my smile wider\". This approach has found use in image denoising, inpainting, super-resolution, structured prediction, exploration in reinforcement learning, and neural network pretraining in cases where labeled data is expensive. \n",
     "\n",
     "Generating models that can produce realistic content (images, sounds etc.) mimicking real world observations is challenging. Generative Adversarial Network (GAN) is one of the approaches that holds promise. A [quote](https://www.quora.com/What-are-some-recent-and-potentially-upcoming-breakthroughs-in-deep-learning) from Yann LeCun summarizes GAN and its variations as the most important idea in the last 10 years. The original idea was proposed by [Goodfellow et al](https://arxiv.org/pdf/1406.2661v1.pdf) at NIPS  2014. In this tutorial, we show how to use the Cognitive Toolkit to create a basic GAN network for generating synthetic MNIST digits."
    ]
   },
   "source": [
    "# CNTK 206: パートA - MNIST データを用いた簡単なGAN\n",
    "\n",
    "**前提条件**: CNTK_103A_MNIST_DataLoader.ipynb というタイトルのチュートリアルを完了して、MNIST データを正常にダウンロードしたことを前提としています。\n",
    "\n",
    "## 序論\n",
    "\n",
    "深層学習コミュニティは、これまで伝統的に(半教師) と教師なし学習用の[識別モデル](https://en.wikipedia.org/wiki/Discriminative_model)を活用してきましたが、[生成モデル](https://en.wikipedia.org/wiki/Generative_model)が[多くの注目](https://openai.com/blog/generative-models/)を集めるようになりました。生成モデルでは基本的には、特定のドメイン (例えば、写真、オーディオ、単語) の膨大な量のデータを収集し、そのような現実の世界のデータセットを生成するように学習したモデルを作り出すことです。これは、大きなデータセットを用いて学習をスケールさせるメカニズムを必要とするアクティブな研究領域です。[OpenAI blog](https://openai.com/blog/generative-models/)に記載されているように、このようなアプローチは、コンピュータ支援アートの生成、または \"もっと笑って\" などの指令にしたがって画像の変形を実行するために使用されることがあります。このアプローチは、画像のノイズ除去、修復、超解像、構造化予測、強化学習における探求、ラベル付きデータが入手しずらい場合のニューラルネットワークのプレトレーニングにおいて使用されつつあります。\n",
    "\n",
    "現実世界の現象を模倣したリアルなコンテンツ (画像、音など) を生成することができるモデルを作り出すことは困難です。敵対的生成ネットワーク (GAN) は、期待できるアプローチの一つです。Yann LeCun からの[引用](https://www.quora.com/What-are-some-recent-and-potentially-upcoming-breakthroughs-in-deep-learning)は直近10年の最も重要な考えとして GAN およびその派生を上げています。元々のアイデアは、[Goodfellowら](https://arxiv.org/pdf/1406.2661v1.pdf)によってNIPS 2014で提案されたものです。このチュートリアルでは、Cognitive Toolkitを使用して、MNIST の数字を合成するための簡単な GAN ネットワークを作成する方法を紹介します。"
   ]
  },
  {
   "cell_type": "code",
   "execution_count": 2,
   "metadata": {
    "collapsed": false
   },
   "outputs": [],
   "source": [
    "import matplotlib as mpl\n",
    "import matplotlib.pyplot as plt\n",
    "import numpy as np\n",
    "import os\n",
    "\n",
    "import cntk as C\n",
    "import cntk.tests.test_utils\n",
    "cntk.tests.test_utils.set_device_from_pytest_env() # (only needed for our build system)\n",
    "C.cntk_py.set_fixed_random_seed(1) # fix a random seed for CNTK components\n",
    "\n",
    "%matplotlib inline"
   ]
  },
  {
   "cell_type": "markdown",
   "metadata": {
    "original_source": [
     "There are two run modes:\n",
     "- *Fast mode*: `isFast` is set to `True`. This is the default mode for the notebooks, which means we train for fewer iterations or train / test on limited data. This ensures functional correctness of the notebook though the models produced are far from what a completed training would produce.\n",
     "\n",
     "- *Slow mode*: We recommend the user to set this flag to `False` once the user has gained familiarity with the notebook content and wants to gain insight from running the notebooks for a longer period with different parameters for training. \n",
     "\n",
     "**Note**\n",
     "If the `isFlag` is set to `False` the notebook will take a few hours on a GPU enabled machine. You can try fewer iterations by setting the `num_minibatches` to a smaller number say `20,000` which comes at the expense of quality of the generated images."
    ]
   },
   "source": [
    "実行モードは二つあります:\n",
    "\n",
    "- *高速モード*: `isFast` は`True`に設定されています。これは、ノートブックのデフォルトのモードで、少ない反復回数で学習または、限られたデータで学習/テストすることを意味します。できたモデルは完全な学習によるものからはほど遠いですが、こうすることによってノートブックの機能の正しさを保証できます。\n",
    "\n",
    "- *低速モード*: ユーザーがノートブックの内容に慣れ親しんだ後で、学習のためのさまざまなパラメータを変えたり、ノートブックをもっと長期間実行したりして深い洞察を得たくなったときに、このフラグを`False`に設定することをお勧めします。\n",
    "\n",
    "**注**\n",
    "`isFlag`が `False` に設定されている場合、ノートブックは GPU ありのマシンでも数時間かかります。`num_minibatches`を、たとえば`20,000` など小さい数値に設定することで、反復回数を減らすことができますが、その場合、生成された画像の品質は犠牲になります。"
   ]
  },
  {
   "cell_type": "code",
   "execution_count": 3,
   "metadata": {
    "collapsed": true
   },
   "outputs": [],
   "source": [
    "isFast = True "
   ]
  },
  {
   "cell_type": "markdown",
   "metadata": {
    "original_source": [
     "## Data Reading\n",
     "The input to the GAN will be a vector of random numbers. At the end of the traning, the GAN \"learns\" to generate images of hand written digits drawn from the [MNIST database](https://en.wikipedia.org/wiki/MNIST_database). We will be using the same MNIST data generated in tutorial 103A.  A more in-depth discussion of the data format and reading methods can be seen in previous tutorials.  For our purposes, just know that the following function returns an object that will be used to generate images from the MNIST dataset.  Since we are building an unsupervised model, we only need to read in `features` and ignore the `labels`."
    ]
   },
   "source": [
    "## データの読み取り\n",
    "\n",
    "GAN への入力は乱数のベクトルとなります。学習の後にGAN は、 [MNIST データベース](https://en.wikipedia.org/wiki/MNIST_database)から持ってきた手書きの数字の画像を生成することを学びます。ここではチュートリアル103A で作成されたのと同じ MNIST データを使用することになります。 データ形式と読み取り方法の詳細については、前のチュートリアルをご覧ください。 とりあえずは、下の関数は、MNIST データセットからイメージを生成するために使用されるオブジェクトを返すことを気に留めておいてください。ここでは教師なしのモデルを構築しているので、我々は `features` を読みこむだけでよく、 `labels` は無視できます。"
   ]
  },
  {
   "cell_type": "code",
   "execution_count": 4,
   "metadata": {
    "collapsed": false
   },
   "outputs": [
    {
     "name": "stdout",
     "output_type": "stream",
     "text": [
      "Data directory is data/MNIST\n"
     ]
    }
   ],
   "source": [
    "# Ensure the training data is generated and available for this tutorial\n",
    "# We search in two locations in the toolkit for the cached MNIST data set.\n",
    "\n",
    "data_found = False\n",
    "for data_dir in [os.path.join(\"..\", \"Examples\", \"Image\", \"DataSets\", \"MNIST\"),\n",
    "                 os.path.join(\"data\", \"MNIST\")]:\n",
    "    train_file = os.path.join(data_dir, \"Train-28x28_cntk_text.txt\")\n",
    "    if os.path.isfile(train_file):\n",
    "        data_found = True\n",
    "        break\n",
    "        \n",
    "if not data_found:\n",
    "    raise ValueError(\"Please generate the data by completing CNTK 103 Part A\")\n",
    "    \n",
    "print(\"Data directory is {0}\".format(data_dir))"
   ]
  },
  {
   "cell_type": "code",
   "execution_count": 5,
   "metadata": {
    "collapsed": true
   },
   "outputs": [],
   "source": [
    "def create_reader(path, is_training, input_dim, label_dim):\n",
    "    deserializer = C.io.CTFDeserializer(\n",
    "        filename = path,\n",
    "        streams = C.io.StreamDefs(\n",
    "            labels_unused = C.io.StreamDef(field = 'labels', shape = label_dim, is_sparse = False),\n",
    "            features = C.io.StreamDef(field = 'features', shape = input_dim, is_sparse = False\n",
    "            )\n",
    "        )\n",
    "    )\n",
    "    return C.io.MinibatchSource(\n",
    "        deserializers = deserializer,\n",
    "        randomize = is_training,\n",
    "        max_sweeps = C.io.INFINITELY_REPEAT if is_training else 1\n",
    "    )"
   ]
  },
  {
   "cell_type": "markdown",
   "metadata": {
    "original_source": [
     "The random noise we will use to train the GAN is provided by the `noise_sample` function to generate random noise samples from a uniform distribution within the interval [-1, 1]."
    ]
   },
   "source": [
    "GANを学習させるために使用するランダムノイズは、 `noise_sample` 関数によって得られ、区間 [-1, 1] 内の一様分布からランダムノイズサンプルを生成します。"
   ]
  },
  {
   "cell_type": "code",
   "execution_count": 6,
   "metadata": {
    "collapsed": true
   },
   "outputs": [],
   "source": [
    "np.random.seed(123)\n",
    "def noise_sample(num_samples):\n",
    "    return np.random.uniform(\n",
    "        low = -1.0,\n",
    "        high = 1.0,\n",
    "        size = [num_samples, g_input_dim]        \n",
    "    ).astype(np.float32)"
   ]
  },
  {
   "cell_type": "markdown",
   "metadata": {
    "original_source": [
     "## Model Creation\n",
     "\n",
     "A GAN network is composed of two sub-networks, one called the Generator ($G$) and the other Discriminator ($D$). \n",
     "- The **Generator** takes random noise vector ($z$) as input and strives to output synthetic (fake) image ($x^*$) that is indistinguishable from the real image ($x$) from the MNIST dataset. \n",
     "- The **Discriminator** strives to differentiate between the real image ($x$) and the fake ($x^*$) image."
    ]
   },
   "source": [
    "## モデルの作成\n",
    "\n",
    "GAN ネットワークは、2つのサブネットワークで構成され、1つは生成器($ G $) 、もうひとつは弁別器 ($ D $) と呼ばれます。\n",
    "\n",
    "- **生成器**は、入力としてランダムノイズベクトル ($ z $) を受け取り、MNISTデータセットからの本物の画像($ x $)と区別できないような(偽の)合成画像($ x^* $)を出力するように仕向けられます。\n",
    "- **弁別器**は本物の画像（$x$）と偽物の画像（$x^*$）を区別するように仕向けられます。"
   ]
  },
  {
   "cell_type": "code",
   "execution_count": 7,
   "metadata": {
    "collapsed": false
   },
   "outputs": [
    {
     "data": {
      "text/html": [
       "<img src=\"https://www.cntk.ai/jup/GAN_basic_flow.png\"/>"
      ],
      "text/plain": [
       "<IPython.core.display.Image object>"
      ]
     },
     "execution_count": 7,
     "metadata": {},
     "output_type": "execute_result"
    }
   ],
   "source": [
    "# Figure 1\n",
    "Image(url=\"https://www.cntk.ai/jup/GAN_basic_flow.png\")"
   ]
  },
  {
   "cell_type": "markdown",
   "metadata": {
    "original_source": [
     "In each training iteration, the Generator produces more realistic fake images (in other words *minimizes* the difference between the real and generated counterpart) and also the Discriminator *maximizes* the probability of assigning the correct label (real vs. fake) to both real examples (from training set) and the generated fake ones. The two conflicting objectives between the sub-networks ($G$ and $D$) leads to the GAN network (when trained) converge to an equilibrium, where the Generator produces realistic looking fake MNIST images and the Discriminator can at best randomly guess whether images are real or fake. The resulting Generator model once trained produces realistic MNIST image with the input being a random number. "
    ]
   },
   "source": [
    "学習の反復ごとに、生成器はより本物らしい偽の画像を生成し (言い換えれば、本物と生成されたものとの違いを*最小限に抑える*) また、弁別器は (トレーニングセットからの)本物の例と生成された偽の例の両方に正しいラベル（本物か偽物）を割り当てられる確率を*最大*にしようとします。サブネットワーク ($ G $と$ D $) の間の2つの相反する目的により、GAN ネットワークは (学習後には)生成器は、本物らしい偽の MNIST 画像を生成し、弁別器はせいぜいランダムに画像が本物か偽物かを推測する均衡状態に落ち着きます。その結果、生成器モデルはランダムは値から本物らしい MNIST 画像を生成できるようになります。"
   ]
  },
  {
   "cell_type": "markdown",
   "metadata": {
    "original_source": [
     "### Model config\n",
     "\n",
     "First, we establish some of the architectural and training hyper-parameters for our model.  \n",
     "\n",
     "- The generator network is a fully-connected network with a single hidden layer.  The input will be a 100-dimensional random vector and the output will be a 784 dimensional vector, corresponding to a flattened version of a 28 x 28 fake  image.  The discriminator is also a single layer dense network.  It takes as input the 784 dimensional output of the generator or a real MNIST image and outputs a single scalar - the estimated probability that the input image is a real MNIST image."
    ]
   },
   "source": [
    "### モデル構成\n",
    "\n",
    "まずは、モデルのアーキテクチャと学習ハイパーパラメータのいくつかを設定します。\n",
    "\n",
    "- 生成器ネットワークは、1つの隠れ層を持つ全結合されたネットワークです。 入力は100次元のランダムベクトルとなり、出力は 28 x 28 の偽画像を平坦化したものに相当する784次元ベクトルになります。 弁別器も、一層の密なネットワークです。 これは、入力として784次元の生成器の出力か実際の MNIST 画像を受け取り、単一のスカラー値、つまり入力画像が実際の MNIST 画像である推定確率、を出力します。"
   ]
  },
  {
   "cell_type": "markdown",
   "metadata": {
    "original_source": [
     "### Model components\n",
     "We build a computational graph for our model, one each for the generator and the discriminator. First, we establish some of the architectural parameters of our model. \n",
     "\n",
     "- The generator takes a 100-dimensional random vector (for starters) as input ($z$) and the outputs a 784 dimensional vector, corresponding to a flattened version of a 28 x 28 fake (synthetic) image ($x^*$). In this tutorial we simply model the generator with two dense layers. We use a tanh activation on the last layer to make sure that the output of the generator function is confined to the interval [-1, 1]. This is necessary because we also scale the MNIST images to this interval, and the outputs of the generator must be able to emulate the actual images as closely as possible.\n",
     "\n",
     "\n",
     "- The discriminator takes as input ($x^*$) the 784 dimensional output of the generator or a real MNIST image and outputs the estimated probability that the input image is a real MNIST image. We also model this with two dense layers with a sigmoid activation in the last layer ensuring that the discriminator produces a valid probability."
    ]
   },
   "source": [
    "### モデルコンポーネント\n",
    "\n",
    "生成器と弁別器それぞれ１つずつモデルの計算グラフを構築します。まず、モデルのいくつかのアーキテクチャのパラメータを設定します。\n",
    "\n",
    "- このジェネレータは、入力 ($z$) として(スターター用に)100次元のランダムベクトルを受け取り、28 x 28 偽 (合成) 画像 ($ x^* $) を平坦化した784次元ベクトルを出力します。このチュートリアルでは、単純に2つの密な層で生成器をモデル化します。生成関数の出力が区間 [-1, 1] におさまっていることを保証するために、最後の層で tanh 活性化関数を使用しています。これは、MNIST の画像をこの区間にスケーリングしているために必要で、生成器の出力は、可能な限り実際の画像を模倣できる必要があります。\n",
    "\n",
    "- この弁別器は、入力 ($ x^* $) として、生成器のまたは実際の MNIST 画像の784次元出力を受け取り、入力イメージが実際の MNIST 画像である推定確率を出力します。また、最後の層でシグモイド活性化関数を持つ2つの密な層でモデル化し、弁別器が有効な確率を生成することを保証します。"
   ]
  },
  {
   "cell_type": "code",
   "execution_count": 8,
   "metadata": {
    "collapsed": true
   },
   "outputs": [],
   "source": [
    "# architectural parameters\n",
    "g_input_dim = 100\n",
    "g_hidden_dim = 128\n",
    "g_output_dim = d_input_dim = 784\n",
    "d_hidden_dim = 128\n",
    "d_output_dim = 1"
   ]
  },
  {
   "cell_type": "code",
   "execution_count": 9,
   "metadata": {
    "collapsed": true
   },
   "outputs": [],
   "source": [
    "def generator(z):\n",
    "    with C.layers.default_options(init = C.xavier()):\n",
    "        h1 = C.layers.Dense(g_hidden_dim, activation = C.relu)(z)\n",
    "        return C.layers.Dense(g_output_dim, activation = C.tanh)(h1)"
   ]
  },
  {
   "cell_type": "code",
   "execution_count": 10,
   "metadata": {
    "collapsed": true
   },
   "outputs": [],
   "source": [
    "def discriminator(x):\n",
    "    with C.layers.default_options(init = C.xavier()):\n",
    "        h1 = C.layers.Dense(d_hidden_dim, activation = C.relu)(x)\n",
    "        return C.layers.Dense(d_output_dim, activation = C.sigmoid)(h1)"
   ]
  },
  {
   "cell_type": "markdown",
   "metadata": {
    "original_source": [
     "We use a minibatch size of 1024 and a fixed learning rate of 0.0005 for training. In the fast mode (`isFast = True`)  we verify only functional correctness with 300 iterations. \n",
     "\n",
     "**Note**: In the slow mode, the results look a lot better but it requires patient waiting (few hours) depending on your hardware. In general, the more number of minibatches one trains, the better is the fidelity of the generated images."
    ]
   },
   "source": [
    "学習にはミニバッチのサイズとして1024、固定学習率として0.0005を使用しています。高速モード ( `isFast = True` ) では、300の反復で機能の正しさのみを検証します。\n",
    "\n",
    "**注**: 低速モードでは、結果の見栄えはよくなりますが、ハードウェアによっては(数時間)辛抱強く待つ必要があります。一般的に、ミニバッチで学習すればするほど、生成される画像の再現性が向上します。"
   ]
  },
  {
   "cell_type": "code",
   "execution_count": 11,
   "metadata": {
    "collapsed": true
   },
   "outputs": [],
   "source": [
    "# training config\n",
    "minibatch_size = 1024\n",
    "num_minibatches = 300 if isFast else 40000\n",
    "lr = 0.00005"
   ]
  },
  {
   "cell_type": "markdown",
   "metadata": {
    "original_source": [
     "### Build the graph\n",
     "\n",
     "The rest of the computational graph is mostly responsible for coordinating the training algorithms and parameter updates, which is particularly tricky with GANs for couple reasons. \n",
     "\n",
     "- First, the discriminator must be used on both the real MNIST images and fake images generated by the generator function.  One way to represent this in the computational graph is to create a clone of the output of the discriminator function, but with substituted inputs.  Setting `method=share` in the `clone` function ensures that  both paths through the discriminator model use the same set of parameters.\n",
     "\n",
     "\n",
     "- Second, we need to update the parameters for the generator and discriminator model separately using the gradients from different loss functions.  We can get the parameters for a `Function` in the graph with the `parameters` attribute.  However, when updating the model parameters, update only the parameters of the respective models while keeping the other parameters unchanged. In other words, when updating the generator we will update only the parameters of the $G$ function while keeping the parameters of the $D$ function fixed and vice versa.\n",
     "\n",
     "### Training the Model\n",
     "The code for training the GAN very closely follows the algorithm as presented in the [original NIPS 2014 paper](https://arxiv.org/pdf/1406.2661v1.pdf). In this implementation, we train $D$ to maximize the probability of assigning the correct label (fake vs. real) to both training examples and the samples from $G$. In other words, $D$ and $G$ play the following two-player minimax game with the value function $V(G,D)$:\n",
     "\n",
     "$$\n",
     "    \\min_G \\max_D V(D,G)= \\mathbb{E}_{x}[ log D(x) ] + \\mathbb{E}_{z}[ log(1 - D(G(z))) ]\n",
     "$$\n",
     "\n",
     "At the optimal point of this game the generator will produce realistic looking data while the discriminator will predict that the generated image is indeed fake with a probability of 0.5. The [algorithm referred below](https://arxiv.org/pdf/1406.2661v1.pdf) is implemented in this tutorial."
    ]
   },
   "source": [
    "### グラフを作成する\n",
    "\n",
    "計算グラフの残りの部分は主に、いくつかの理由のためGAN特有のトリッキーな学習アルゴリズムとパラメータの更新を扱うためのものです。\n",
    "\n",
    "- まず、弁別器は、実際の MNIST 画像と生成関数によって生成された偽の画像の両方で使用される必要があります。 計算グラフでこれを表現する1つの方法は、入力を置き換えたうえで弁別関数の出力のクローンを作成することです。 `clone`関数の `method=share` を設定すると、弁別器モデルを通る両方のパスが同じパラメータのセットを使用するようになります。\n",
    "\n",
    "- 次に、異なる損失関数の勾配を利用して、生成器と弁別器のモデルのパラメータをそれぞれ個別に更新する必要があります。 グラフ内の `Function` のパラメータは`parameters`属性から取得できます。 ただし、モデルパラメータを更新する場合は、他のパラメータを変更せずに、それぞれのモデルのパラメータのみを更新します。つまり、生成器を更新するときには、 $D$ 関数のパラメータを固定したまま、 $G$ 関数のパラメータのみを更新します。\n",
    "\n",
    "### モデルのトレーニング\n",
    "\n",
    "GAN を学習させるためのコードは、[もともとのNIPS 2014論文](https://arxiv.org/pdf/1406.2661v1.pdf)のアルゴリズムに忠実に従っています。この実装では、学習データの例と$ G $からのサンプルの両方に正しいラベル (偽か本物) を割り当てる確率を最大化されるように$ D $を訓練します。つまり、 $ D $と$ G $は、次のように２プレーヤーのミニマックスゲームを評価関数$ V(G,D) $で競います。\n",
    "\n",
    "$$\n",
    "    \\min_G \\max_D V(D,G)= \\mathbb{E}_{x}[ log D(x) ] + \\mathbb{E}_{z}[ log(1 - D(G(z))) ]\n",
    "$$\n",
    "\n",
    "このゲームの最適地点では、生成器は本物らしいデータを生成し、分別器は生成された画像が実際に偽物であることを0.5 の確率で予測します。このチュートリアルでは、[以下で参照されるアルゴリズム](https://arxiv.org/pdf/1406.2661v1.pdf)を実装しています。"
   ]
  },
  {
   "cell_type": "code",
   "execution_count": 12,
   "metadata": {
    "collapsed": false
   },
   "outputs": [
    {
     "data": {
      "text/html": [
       "<img src=\"https://www.cntk.ai/jup/GAN_goodfellow_NIPS2014.png\" width=\"500\"/>"
      ],
      "text/plain": [
       "<IPython.core.display.Image object>"
      ]
     },
     "execution_count": 12,
     "metadata": {},
     "output_type": "execute_result"
    }
   ],
   "source": [
    "# Figure 2\n",
    "Image(url=\"https://www.cntk.ai/jup/GAN_goodfellow_NIPS2014.png\", width = 500)"
   ]
  },
  {
   "cell_type": "code",
   "execution_count": 13,
   "metadata": {
    "collapsed": true
   },
   "outputs": [],
   "source": [
    "def build_graph(noise_shape, image_shape,\n",
    "                G_progress_printer, D_progress_printer):\n",
    "    input_dynamic_axes = [C.Axis.default_batch_axis()]\n",
    "    Z = C.input_variable(noise_shape, dynamic_axes=input_dynamic_axes)\n",
    "    X_real = C.input_variable(image_shape, dynamic_axes=input_dynamic_axes)\n",
    "    X_real_scaled = 2*(X_real / 255.0) - 1.0\n",
    "\n",
    "    # Create the model function for the generator and discriminator models\n",
    "    X_fake = generator(Z)\n",
    "    D_real = discriminator(X_real_scaled)\n",
    "    D_fake = D_real.clone(\n",
    "        method = 'share',\n",
    "        substitutions = {X_real_scaled.output: X_fake.output}\n",
    "    )\n",
    "\n",
    "    # Create loss functions and configure optimazation algorithms\n",
    "    G_loss = 1.0 - C.log(D_fake)\n",
    "    D_loss = -(C.log(D_real) + C.log(1.0 - D_fake))\n",
    "\n",
    "    G_learner = C.fsadagrad(\n",
    "        parameters = X_fake.parameters,\n",
    "        lr = C.learning_parameter_schedule_per_sample(lr),\n",
    "        momentum = C.momentum_schedule_per_sample(0.9985724484938566)\n",
    "    )\n",
    "    D_learner = C.fsadagrad(\n",
    "        parameters = D_real.parameters,\n",
    "        lr = C.learning_parameter_schedule_per_sample(lr),\n",
    "        momentum = C.momentum_schedule_per_sample(0.9985724484938566)\n",
    "    )\n",
    "\n",
    "    # Instantiate the trainers\n",
    "    G_trainer = C.Trainer(\n",
    "        X_fake,\n",
    "        (G_loss, None),\n",
    "        G_learner,\n",
    "        G_progress_printer\n",
    "    )\n",
    "    D_trainer = C.Trainer(\n",
    "        D_real,\n",
    "        (D_loss, None),\n",
    "        D_learner,\n",
    "        D_progress_printer\n",
    "    )\n",
    "\n",
    "    return X_real, X_fake, Z, G_trainer, D_trainer"
   ]
  },
  {
   "cell_type": "markdown",
   "metadata": {
    "original_source": [
     "With the value functions defined we proceed to interatively train the GAN model. The training of the model can take significnantly long depending on the hardware especiallly if `isFast` flag is turned off."
    ]
   },
   "source": [
    "評価関数が定義したので、GAN モデルをインタラクティブに訓練することにします。`isFast`フラグがオフになっている場合は特に、ハードウェアによっては、モデルの学習に長い時間がかかることがあります。"
   ]
  },
  {
   "cell_type": "code",
   "execution_count": 14,
   "metadata": {
    "collapsed": true
   },
   "outputs": [],
   "source": [
    "def train(reader_train):\n",
    "    k = 2\n",
    "    \n",
    "    # print out loss for each model for upto 50 times\n",
    "    print_frequency_mbsize = num_minibatches // 50\n",
    "    pp_G = C.logging.ProgressPrinter(print_frequency_mbsize)\n",
    "    pp_D = C.logging.ProgressPrinter(print_frequency_mbsize * k)\n",
    "\n",
    "    X_real, X_fake, Z, G_trainer, D_trainer = \\\n",
    "        build_graph(g_input_dim, d_input_dim, pp_G, pp_D)\n",
    "    \n",
    "    input_map = {X_real: reader_train.streams.features}\n",
    "    for train_step in range(num_minibatches):\n",
    "\n",
    "        # train the discriminator model for k steps\n",
    "        for gen_train_step in range(k):\n",
    "            Z_data = noise_sample(minibatch_size)\n",
    "            X_data = reader_train.next_minibatch(minibatch_size, input_map)\n",
    "            if X_data[X_real].num_samples == Z_data.shape[0]:\n",
    "                batch_inputs = {X_real: X_data[X_real].data, \n",
    "                                Z: Z_data}\n",
    "                D_trainer.train_minibatch(batch_inputs)\n",
    "\n",
    "        # train the generator model for a single step\n",
    "        Z_data = noise_sample(minibatch_size)\n",
    "        batch_inputs = {Z: Z_data}\n",
    "        G_trainer.train_minibatch(batch_inputs)\n",
    "\n",
    "        G_trainer_loss = G_trainer.previous_minibatch_loss_average\n",
    "\n",
    "    return Z, X_fake, G_trainer_loss"
   ]
  },
  {
   "cell_type": "code",
   "execution_count": 15,
   "metadata": {
    "collapsed": false,
    "scrolled": false
   },
   "outputs": [
    {
     "name": "stdout",
     "output_type": "stream",
     "text": [
      "Learning rate per 1 samples: 5e-05\n",
      "Learning rate per 1 samples: 5e-05\n",
      " Minibatch[   1-  12]: loss = 0.462199 * 12288, metric = 0.00% * 12288;\n",
      " Minibatch[   1-   6]: loss = 2.740121 * 6144, metric = 0.00% * 6144;\n",
      " Minibatch[  13-  24]: loss = 0.496172 * 12288, metric = 0.00% * 12288;\n",
      " Minibatch[   7-  12]: loss = 2.405167 * 6144, metric = 0.00% * 6144;\n",
      " Minibatch[  25-  36]: loss = 0.467011 * 12288, metric = 0.00% * 12288;\n",
      " Minibatch[  13-  18]: loss = 2.497319 * 6144, metric = 0.00% * 6144;\n",
      " Minibatch[  37-  48]: loss = 0.578186 * 12288, metric = 0.00% * 12288;\n",
      " Minibatch[  19-  24]: loss = 2.668673 * 6144, metric = 0.00% * 6144;\n",
      " Minibatch[  49-  60]: loss = 1.256119 * 12288, metric = 0.00% * 12288;\n",
      " Minibatch[  25-  30]: loss = 2.148913 * 6144, metric = 0.00% * 6144;\n",
      " Minibatch[  61-  72]: loss = 1.282357 * 12288, metric = 0.00% * 12288;\n",
      " Minibatch[  31-  36]: loss = 1.622807 * 6144, metric = 0.00% * 6144;\n",
      " Minibatch[  73-  84]: loss = 1.088601 * 12288, metric = 0.00% * 12288;\n",
      " Minibatch[  37-  42]: loss = 1.809811 * 6144, metric = 0.00% * 6144;\n",
      " Minibatch[  85-  96]: loss = 0.940811 * 12288, metric = 0.00% * 12288;\n",
      " Minibatch[  43-  48]: loss = 1.874231 * 6144, metric = 0.00% * 6144;\n",
      " Minibatch[  97- 108]: loss = 0.988148 * 12288, metric = 0.00% * 12288;\n",
      " Minibatch[  49-  54]: loss = 1.831102 * 6144, metric = 0.00% * 6144;\n",
      " Minibatch[ 109- 120]: loss = 0.917549 * 12288, metric = 0.00% * 12288;\n",
      " Minibatch[  55-  60]: loss = 2.188828 * 6144, metric = 0.00% * 6144;\n",
      " Minibatch[ 121- 132]: loss = 0.884881 * 12288, metric = 0.00% * 12288;\n",
      " Minibatch[  61-  66]: loss = 2.149142 * 6144, metric = 0.00% * 6144;\n",
      " Minibatch[ 133- 144]: loss = 0.992300 * 12288, metric = 0.00% * 12288;\n",
      " Minibatch[  67-  72]: loss = 1.803739 * 6144, metric = 0.00% * 6144;\n",
      " Minibatch[ 145- 156]: loss = 1.068721 * 12288, metric = 0.00% * 12288;\n",
      " Minibatch[  73-  78]: loss = 1.968666 * 6144, metric = 0.00% * 6144;\n",
      " Minibatch[ 157- 168]: loss = 1.134351 * 12288, metric = 0.00% * 12288;\n",
      " Minibatch[  79-  84]: loss = 2.125031 * 6144, metric = 0.00% * 6144;\n",
      " Minibatch[ 169- 180]: loss = 1.063633 * 12288, metric = 0.00% * 12288;\n",
      " Minibatch[  85-  90]: loss = 2.188138 * 6144, metric = 0.00% * 6144;\n",
      " Minibatch[ 181- 192]: loss = 1.028136 * 12288, metric = 0.00% * 12288;\n",
      " Minibatch[  91-  96]: loss = 1.955742 * 6144, metric = 0.00% * 6144;\n",
      " Minibatch[ 193- 204]: loss = 0.928855 * 12288, metric = 0.00% * 12288;\n",
      " Minibatch[  97- 102]: loss = 1.709920 * 6144, metric = 0.00% * 6144;\n",
      " Minibatch[ 205- 216]: loss = 0.917145 * 12288, metric = 0.00% * 12288;\n",
      " Minibatch[ 103- 108]: loss = 1.835429 * 6144, metric = 0.00% * 6144;\n",
      " Minibatch[ 217- 228]: loss = 0.853377 * 12288, metric = 0.00% * 12288;\n",
      " Minibatch[ 109- 114]: loss = 1.829374 * 6144, metric = 0.00% * 6144;\n",
      " Minibatch[ 229- 240]: loss = 0.796435 * 12288, metric = 0.00% * 12288;\n",
      " Minibatch[ 115- 120]: loss = 1.963872 * 6144, metric = 0.00% * 6144;\n",
      " Minibatch[ 241- 252]: loss = 0.656494 * 12288, metric = 0.00% * 12288;\n",
      " Minibatch[ 121- 126]: loss = 2.135597 * 6144, metric = 0.00% * 6144;\n",
      " Minibatch[ 253- 264]: loss = 0.618114 * 12288, metric = 0.00% * 12288;\n",
      " Minibatch[ 127- 132]: loss = 2.157979 * 6144, metric = 0.00% * 6144;\n",
      " Minibatch[ 265- 276]: loss = 0.576781 * 12288, metric = 0.00% * 12288;\n",
      " Minibatch[ 133- 138]: loss = 2.167196 * 6144, metric = 0.00% * 6144;\n",
      " Minibatch[ 277- 288]: loss = 0.565924 * 12288, metric = 0.00% * 12288;\n",
      " Minibatch[ 139- 144]: loss = 2.312520 * 6144, metric = 0.00% * 6144;\n",
      " Minibatch[ 289- 300]: loss = 0.636514 * 12288, metric = 0.00% * 12288;\n",
      " Minibatch[ 145- 150]: loss = 2.168869 * 6144, metric = 0.00% * 6144;\n",
      " Minibatch[ 301- 312]: loss = 0.664688 * 12288, metric = 0.00% * 12288;\n",
      " Minibatch[ 151- 156]: loss = 2.094523 * 6144, metric = 0.00% * 6144;\n",
      " Minibatch[ 313- 324]: loss = 0.729238 * 12288, metric = 0.00% * 12288;\n",
      " Minibatch[ 157- 162]: loss = 2.149241 * 6144, metric = 0.00% * 6144;\n",
      " Minibatch[ 325- 336]: loss = 0.750529 * 12288, metric = 0.00% * 12288;\n",
      " Minibatch[ 163- 168]: loss = 1.988378 * 6144, metric = 0.00% * 6144;\n",
      " Minibatch[ 337- 348]: loss = 0.687083 * 12288, metric = 0.00% * 12288;\n",
      " Minibatch[ 169- 174]: loss = 2.109670 * 6144, metric = 0.00% * 6144;\n",
      " Minibatch[ 349- 360]: loss = 0.674973 * 12288, metric = 0.00% * 12288;\n",
      " Minibatch[ 175- 180]: loss = 2.101105 * 6144, metric = 0.00% * 6144;\n",
      " Minibatch[ 361- 372]: loss = 0.670123 * 12288, metric = 0.00% * 12288;\n",
      " Minibatch[ 181- 186]: loss = 2.150035 * 6144, metric = 0.00% * 6144;\n",
      " Minibatch[ 373- 384]: loss = 0.808487 * 12288, metric = 0.00% * 12288;\n",
      " Minibatch[ 187- 192]: loss = 1.938675 * 6144, metric = 0.00% * 6144;\n",
      " Minibatch[ 385- 396]: loss = 0.879242 * 12288, metric = 0.00% * 12288;\n",
      " Minibatch[ 193- 198]: loss = 2.054352 * 6144, metric = 0.00% * 6144;\n",
      " Minibatch[ 397- 408]: loss = 0.882462 * 12288, metric = 0.00% * 12288;\n",
      " Minibatch[ 199- 204]: loss = 1.966949 * 6144, metric = 0.00% * 6144;\n",
      " Minibatch[ 409- 420]: loss = 0.882774 * 12288, metric = 0.00% * 12288;\n",
      " Minibatch[ 205- 210]: loss = 1.837413 * 6144, metric = 0.00% * 6144;\n",
      " Minibatch[ 421- 432]: loss = 0.828557 * 12288, metric = 0.00% * 12288;\n",
      " Minibatch[ 211- 216]: loss = 1.981471 * 6144, metric = 0.00% * 6144;\n",
      " Minibatch[ 433- 444]: loss = 0.822495 * 12288, metric = 0.00% * 12288;\n",
      " Minibatch[ 217- 222]: loss = 1.937551 * 6144, metric = 0.00% * 6144;\n",
      " Minibatch[ 445- 456]: loss = 0.871028 * 12288, metric = 0.00% * 12288;\n",
      " Minibatch[ 223- 228]: loss = 1.999329 * 6144, metric = 0.00% * 6144;\n",
      " Minibatch[ 457- 468]: loss = 0.784180 * 12288, metric = 0.00% * 12288;\n",
      " Minibatch[ 229- 234]: loss = 2.037292 * 6144, metric = 0.00% * 6144;\n",
      " Minibatch[ 469- 480]: loss = 0.804248 * 12288, metric = 0.00% * 12288;\n",
      " Minibatch[ 235- 240]: loss = 1.941386 * 6144, metric = 0.00% * 6144;\n",
      " Minibatch[ 481- 492]: loss = 0.819898 * 12288, metric = 0.00% * 12288;\n",
      " Minibatch[ 241- 246]: loss = 1.983658 * 6144, metric = 0.00% * 6144;\n",
      " Minibatch[ 493- 504]: loss = 0.761574 * 12288, metric = 0.00% * 12288;\n",
      " Minibatch[ 247- 252]: loss = 2.060979 * 6144, metric = 0.00% * 6144;\n",
      " Minibatch[ 505- 516]: loss = 0.777479 * 12288, metric = 0.00% * 12288;\n",
      " Minibatch[ 253- 258]: loss = 1.932597 * 6144, metric = 0.00% * 6144;\n",
      " Minibatch[ 517- 528]: loss = 0.813423 * 12288, metric = 0.00% * 12288;\n",
      " Minibatch[ 259- 264]: loss = 2.050242 * 6144, metric = 0.00% * 6144;\n",
      " Minibatch[ 529- 540]: loss = 0.717122 * 12288, metric = 0.00% * 12288;\n",
      " Minibatch[ 265- 270]: loss = 2.095835 * 6144, metric = 0.00% * 6144;\n",
      " Minibatch[ 541- 552]: loss = 0.742978 * 12288, metric = 0.00% * 12288;\n",
      " Minibatch[ 271- 276]: loss = 2.003540 * 6144, metric = 0.00% * 6144;\n",
      " Minibatch[ 553- 564]: loss = 0.787158 * 12288, metric = 0.00% * 12288;\n",
      " Minibatch[ 277- 282]: loss = 2.027049 * 6144, metric = 0.00% * 6144;\n",
      " Minibatch[ 565- 576]: loss = 0.743815 * 12288, metric = 0.00% * 12288;\n",
      " Minibatch[ 283- 288]: loss = 2.024343 * 6144, metric = 0.00% * 6144;\n",
      " Minibatch[ 577- 588]: loss = 0.722618 * 12288, metric = 0.00% * 12288;\n",
      " Minibatch[ 289- 294]: loss = 2.090281 * 6144, metric = 0.00% * 6144;\n",
      " Minibatch[ 589- 600]: loss = 0.777725 * 12288, metric = 0.00% * 12288;\n",
      " Minibatch[ 295- 300]: loss = 1.969635 * 6144, metric = 0.00% * 6144;\n"
     ]
    }
   ],
   "source": [
    "reader_train = create_reader(train_file, True, d_input_dim, label_dim=10)\n",
    "\n",
    "G_input, G_output, G_trainer_loss = train(reader_train)"
   ]
  },
  {
   "cell_type": "code",
   "execution_count": 16,
   "metadata": {
    "collapsed": false
   },
   "outputs": [
    {
     "name": "stdout",
     "output_type": "stream",
     "text": [
      "Training loss of the generator is: 1.82\n"
     ]
    }
   ],
   "source": [
    "# Print the generator loss \n",
    "print(\"Training loss of the generator is: {0:.2f}\".format(G_trainer_loss))"
   ]
  },
  {
   "cell_type": "markdown",
   "metadata": {
    "original_source": [
     "## Generating Fake (Synthetic) Images\n",
     "\n",
     "Now that we have trained the model, we can create fake images simply by feeding random noise into the generator and displaying the outputs.  Below are a few images generated from random samples.  To get a new set of samples, you can re-run the last cell."
    ]
   },
   "source": [
    "## 偽 (合成) 画像を生成する\n",
    "\n",
    "モデルを訓練したので、単に生成器にランダムノイズを与えて出力を表示することによって偽の画像を生成することができます。 以下は、ランダムなサンプルから生成されたいくつかの画像です。 新しいサンプルを取得するには、最後のセルを再実行してください。"
   ]
  },
  {
   "cell_type": "code",
   "execution_count": 17,
   "metadata": {
    "collapsed": false,
    "scrolled": true
   },
   "outputs": [
    {
     "data": {
      "image/png": "[encoded data removed]",
      "text/plain": [
       "<matplotlib.figure.Figure at 0x7fe081c9fe80>"
      ]
     },
     "metadata": {},
     "output_type": "display_data"
    }
   ],
   "source": [
    "def plot_images(images, subplot_shape):\n",
    "    plt.style.use('ggplot')\n",
    "    fig, axes = plt.subplots(*subplot_shape)\n",
    "    for image, ax in zip(images, axes.flatten()):\n",
    "        ax.imshow(image.reshape(28, 28), vmin = 0, vmax = 1.0, cmap = 'gray')\n",
    "        ax.axis('off')\n",
    "    plt.show()\n",
    "    \n",
    "noise = noise_sample(36)\n",
    "images = G_output.eval({G_input: noise})\n",
    "plot_images(images, subplot_shape =[6, 6])"
   ]
  },
  {
   "cell_type": "markdown",
   "metadata": {
    "original_source": [
     "Larger number of iterations should generate more realistic looking MNIST images. A sampling of such generated images are shown below."
    ]
   },
   "source": [
    "反復回数が多いほど、より本物らしい MNIST 画像が生成されます。そうして生成された画像のサンプルを以下に示します。"
   ]
  },
  {
   "cell_type": "code",
   "execution_count": 18,
   "metadata": {
    "collapsed": false
   },
   "outputs": [
    {
     "data": {
      "text/html": [
       "<img src=\"http://www.cntk.ai/jup/GAN_basic_slowmode.jpg\"/>"
      ],
      "text/plain": [
       "<IPython.core.display.Image object>"
      ]
     },
     "execution_count": 18,
     "metadata": {},
     "output_type": "execute_result"
    }
   ],
   "source": [
    "# Figure 3\n",
    "Image(url=\"http://www.cntk.ai/jup/GAN_basic_slowmode.jpg\")"
   ]
  },
  {
   "cell_type": "markdown",
   "metadata": {
    "original_source": [
     "**Note**: It takes a large number of iterations to capture a representation of the real world signal. Even simple dense networks can be quite effective in modelling data albeit MNIST is a relatively simple dataset as well."
    ]
   },
   "source": [
    "**注**: 現実世界の信号の表現をつかむには、多数の反復が必要です。単純な密ネットワークでも非常に効果的なモデリングが可能でした。ただし、MNIST は比較的単純なデータセットでありますが。"
   ]
  },
  {
   "cell_type": "markdown",
   "metadata": {
    "collapsed": true,
    "original_source": [
     "**Suggested Task**\n",
     "\n",
     "- Explore the impact of changing the dimension of the input random noise (say from 100 to 10) in terms of computation time, loss and memory footprint for the same number of iterations.\n",
     "\n",
     "- Scale the image from 0 to 1. What other changes in the network are needed?\n",
     "\n",
     "- Performance is a key aspect to deep neural networks training. Study how the changing the minibatch sizes impact the performance both with regards to quality of the generated images and the time it takes to train a model.\n",
     "\n",
     "- Try generating fake images using the CIFAR-10 data set as the training data. How does the network above perform?\n"
    ]
   },
   "source": [
    "**推奨されるタスク**\n",
    "\n",
    "- 入力ランダムノイズの次元を変更した場合 (例えば100 から 10へ) の同じ回数の反復での計算時間、損失、およびメモリフットプリントへの影響を調べましょう。\n",
    "\n",
    "- 0から1に画像をスケーリングしてみましょう。他にどんな変更がネットワークに必要ですか。\n",
    "\n",
    "- パフォーマンスは、深層学習の重要な側面です。ミニバッチのサイズの変更が、生成された画像の品質とモデルの学習にかかる時間の両方の点でパフォーマンスに与える影響について調査しましょう。\n",
    "\n",
    "- トレーニングデータとして CIFAR-10 データセットを使用して偽の画像を生成してみてください。上記のネットワークだとどの程度うまくいきますか？"
   ]
  }
 ],
 "metadata": {
  "anaconda-cloud": {},
  "kernelspec": {
   "display_name": "Python [cntk-py35]",
   "language": "python",
   "name": "Python [cntk-py35]"
  },
  "language_info": {
   "codemirror_mode": {
    "name": "ipython",
    "version": 3
   },
   "file_extension": ".py",
   "mimetype": "text/x-python",
   "name": "python",
   "nbconvert_exporter": "python",
   "pygments_lexer": "ipython3",
   "version": "3.5.2"
  },
  "nbTranslate": {
   "displayLangs": [
    "*"
   ],
   "hotkey": "alt-t",
   "langInMainMenu": true,
   "sourceLang": "en",
   "targetLang": "fr",
   "useGoogleTranslate": true
  }
 },
 "nbformat": 4,
 "nbformat_minor": 2
}
